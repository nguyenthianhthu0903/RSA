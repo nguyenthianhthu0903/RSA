{
  "nbformat": 4,
  "nbformat_minor": 0,
  "metadata": {
    "colab": {
      "provenance": [],
      "collapsed_sections": [],
      "authorship_tag": "ABX9TyNia9PxiyefpgKEiRjZ0AYz",
      "include_colab_link": true
    },
    "kernelspec": {
      "name": "python3",
      "display_name": "Python 3"
    },
    "language_info": {
      "name": "python"
    }
  },
  "cells": [
    {
      "cell_type": "markdown",
      "metadata": {
        "id": "view-in-github",
        "colab_type": "text"
      },
      "source": [
        "<a href=\"https://colab.research.google.com/github/nguyenthianhthu0903/RSA/blob/main/51900564_NguyenThiAnhThu_RSA.ipynb\" target=\"_parent\"><img src=\"https://colab.research.google.com/assets/colab-badge.svg\" alt=\"Open In Colab\"/></a>"
      ]
    },
    {
      "cell_type": "code",
      "source": [
        "# Python for RSA asymmetric cryptographic algorithm.\n",
        "# For demonstration, values are\n",
        "# relatively small compared to practical application\n",
        "import math\n",
        "\n",
        "\n",
        "def gcd(a, h):\n",
        "\ttemp = 0\n",
        "\twhile(1):\n",
        "\t\ttemp = a % h\n",
        "\t\tif (temp == 0):\n",
        "\t\t\treturn h\n",
        "\t\ta = h\n",
        "\t\th = temp\n",
        "\n",
        "\n",
        "p = 3\n",
        "q = 7\n",
        "n = p*q\n",
        "e = 2\n",
        "phi = (p-1)*(q-1)\n",
        "\n",
        "while (e < phi):\n",
        "\n",
        "\t# e must be co-prime to phi and\n",
        "\t# smaller than phi.\n",
        "\tif(gcd(e, phi) == 1):\n",
        "\t\tbreak\n",
        "\telse:\n",
        "\t\te = e+1\n",
        "\n",
        "# Private key (d stands for decrypt)\n",
        "# choosing d such that it satisfies\n",
        "# d*e = 1 + k * totient\n",
        "\n",
        "k = 2\n",
        "d = (1 + (k*phi))/e\n",
        "\n",
        "# Message to be encrypted\n",
        "msg = 12.0\n",
        "\n",
        "print(\"Message data = \", msg)\n",
        "\n",
        "# Encryption c = (msg ^ e) % n\n",
        "c = pow(msg, e)\n",
        "c = math.fmod(c, n)\n",
        "print(\"Encrypted data = \", c)\n",
        "\n",
        "# Decryption m = (c ^ d) % n\n",
        "m = pow(c, d)\n",
        "m = math.fmod(m, n)\n",
        "print(\"Original Message Sent = \", m)\n",
        "\n",
        "\n",
        "# This code is contributed by Pranay Arora.\n"
      ],
      "metadata": {
        "colab": {
          "base_uri": "https://localhost:8080/"
        },
        "id": "bUMwFFvclhOX",
        "outputId": "dacd72d3-0311-4645-f609-4dcba5e18a84"
      },
      "execution_count": null,
      "outputs": [
        {
          "output_type": "stream",
          "name": "stdout",
          "text": [
            "Message data =  12.0\n",
            "Encrypted data =  3.0\n",
            "Original Message Sent =  12.0\n"
          ]
        }
      ]
    },
    {
      "cell_type": "code",
      "execution_count": null,
      "metadata": {
        "colab": {
          "base_uri": "https://localhost:8080/"
        },
        "id": "h57NvNTOlGL9",
        "outputId": "e8a0a7bb-ca94-4954-b89d-86d3b7d4fa3b"
      },
      "outputs": [
        {
          "output_type": "stream",
          "name": "stdout",
          "text": [
            "n  618929305867777064373677\n",
            "phi  618929305866200417062176\n",
            "e= 440030362278521548770961   phi= 618929305866200417062176\n",
            "d =  201533634109512789241777\n",
            "Public:  (440030362278521548770961, 618929305867777064373677)\n",
            "Private:  (201533634109512789241777, 618929305867777064373677)\n",
            "encrypted  = [199396989739909011349875, 377987572774171604482133, 199396989739909011349875, 330825551867903891897900]\n",
            "decrypted = TDTU\n"
          ]
        }
      ],
      "source": [
        "\n",
        "import random\n",
        "max_PrimLength = 1000000000000\n",
        "\n",
        "'''\n",
        "calculates the modular inverse from e and phi\n",
        "'''\n",
        "def egcd(a, b):\n",
        "    if a == 0:\n",
        "        return (b, 0, 1)\n",
        "    else:\n",
        "        g, y, x = egcd(b % a, a)\n",
        "        return (g, x - (b // a) * y, y)\n",
        "\n",
        "'''\n",
        "calculates the gcd of two ints\n",
        "'''\n",
        "def gcd(a, b):\n",
        "    while b != 0:\n",
        "        a, b = b, a % b\n",
        "    return a\n",
        "\n",
        "'''\n",
        "checks if a number is a prime\n",
        "'''\n",
        "def is_prime(num):\n",
        "    if num == 2:\n",
        "        return True\n",
        "    if num < 2 or num % 2 == 0:\n",
        "        return False\n",
        "    for n in range(3, int(num**0.5)+2, 2):\n",
        "        if num % n == 0:\n",
        "            return False\n",
        "    return True\n",
        "\n",
        "def generateRandomPrim():\n",
        "    while(1):\n",
        "        ranPrime = random.randint(0,max_PrimLength)\n",
        "        if is_prime(ranPrime):\n",
        "            return ranPrime\n",
        "\n",
        "def generate_keyPairs():\n",
        "    p = generateRandomPrim()\n",
        "    q = generateRandomPrim()\n",
        "    \n",
        "    n = p*q\n",
        "    print(\"n \",n)\n",
        "    #'''phi(n) = phi(p)*phi(q)'''\n",
        "    phi = (p-1) * (q-1) \n",
        "    print(\"phi \",phi)\n",
        "    \n",
        "    #choose e coprime to n and 1 > e > phi\n",
        "    e = random.randint(1, phi)\n",
        "    g = gcd(e,phi)\n",
        "    while g != 1:\n",
        "        e = random.randint(1, phi)\n",
        "        g = gcd(e, phi)\n",
        "        \n",
        "    print(\"e=\",e,\" \",\"phi=\",phi)\n",
        "    #d[1] = modular inverse of e and phi\n",
        "    d = egcd(e, phi)[1]\n",
        "    \n",
        "    #make sure d is positive\n",
        "    d = d % phi\n",
        "    if(d < 0):\n",
        "        d += phi\n",
        "\n",
        "    print(\"d = \",d)  \n",
        "    return ((e,n),(d,n))\n",
        "    \n",
        "        \n",
        "def decrypt(ctext,private_key):\n",
        "    try:\n",
        "        key,n = private_key\n",
        "        text = [chr(pow(char,key,n)) for char in ctext]\n",
        "        return \"\".join(text)\n",
        "    except TypeError as e:\n",
        "        print(e)\n",
        "\n",
        "def encrypt(text,public_key):\n",
        "    key,n = public_key\n",
        "    ctext = [pow(ord(char),key,n) for char in text]\n",
        "    return ctext\n",
        "\n",
        "if __name__ == '__main__':\n",
        "    public_key,private_key = generate_keyPairs() \n",
        "    print(\"Public: \",public_key)\n",
        "    print(\"Private: \",private_key)\n",
        "\n",
        "    ctext = encrypt(\"TDTU\",public_key)\n",
        "    print(\"encrypted  =\",ctext)\n",
        "    plaintext = decrypt(ctext, private_key)\n",
        "    print(\"decrypted =\",plaintext)\n",
        "    \n",
        "  \n",
        "  "
      ]
    }
  ]
}